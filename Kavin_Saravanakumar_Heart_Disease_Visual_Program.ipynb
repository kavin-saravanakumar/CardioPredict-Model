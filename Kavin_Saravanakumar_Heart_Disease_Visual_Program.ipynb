{
  "nbformat": 4,
  "nbformat_minor": 0,
  "metadata": {
    "colab": {
      "provenance": []
    },
    "kernelspec": {
      "name": "python3",
      "display_name": "Python 3"
    },
    "language_info": {
      "name": "python"
    }
  },
  "cells": [
    {
      "cell_type": "code",
      "execution_count": null,
      "metadata": {
        "collapsed": true,
        "id": "3JMZr8n04ptV"
      },
      "outputs": [],
      "source": [
        "# Kavin Saravanakumar Hackathon Project\n",
        "# Import libraries\n",
        "import pandas as pd\n",
        "import matplotlib.pyplot as plot\n",
        "from IPython.display import display\n",
        "import ipywidgets as widgets\n",
        "\n",
        "#Data\n",
        "\n",
        "df = pd.read_csv(\"archive.zip\")\n",
        "df.head()\n",
        "\n",
        "\n"
      ]
    },
    {
      "cell_type": "code",
      "source": [
        "# Gender distribution pie chart\n",
        "\n",
        "plt.pie(gender_counts, labels=labels, autopct='%1.1f%%', startangle=90)\n",
        "plt.title('Gender Distribution')\n",
        "plt.axis('equal')\n",
        "plt.show()\n",
        "\n",
        "gender_counts = df['Sex'].value_counts()\n",
        "labels = gender_counts.index\n",
        "colors = ['darkblue', 'red']\n"
      ],
      "metadata": {
        "id": "SROn3CuGH-sO"
      },
      "execution_count": null,
      "outputs": []
    },
    {
      "cell_type": "code",
      "source": [
        "# Cholestrol & Age Graph\n",
        "\n",
        "plt.figure(figsize=(8,5))\n",
        "plt.scatter(df['Age'], df['Cholesterol'], color='darkblue', alpha=0.6)\n",
        "plt.xlabel('Age')\n",
        "plt.ylabel('Cholesterol')\n",
        "plt.title('Cholesterol and Age Correlation')\n",
        "plt.grid(True)\n",
        "plt.show()\n",
        "\n",
        "\n"
      ],
      "metadata": {
        "id": "Mbpk_2NjNO6f"
      },
      "execution_count": null,
      "outputs": []
    },
    {
      "cell_type": "code",
      "source": [
        "# Bar Graph to compare disease frequncey\n",
        "\n",
        "plt.bar(labels, values, color=['blue', 'red'])\n",
        "plt.title('Heart Disease Frequency in Dataset')\n",
        "plt.ylabel('Number of Patients')\n",
        "plt.grid(axis='y')\n",
        "plt.show()\n"
      ],
      "metadata": {
        "id": "OYtbDImNHmS5"
      },
      "execution_count": null,
      "outputs": []
    },
    {
      "cell_type": "code",
      "source": [
        "# Group by age and get average max heart rate\n",
        "age_hr = df.groupby('Age')['MaxHR'].mean()\n",
        "\n",
        "plt.plot(age_hr.index, age_hr.values, color='black')\n",
        "plt.title('Average Max Heart Rate by Age')\n",
        "plt.xlabel('Age')\n",
        "plt.ylabel('Avg Max Heart Rate')\n",
        "plt.grid(True)\n",
        "plt.show()\n"
      ],
      "metadata": {
        "id": "liL409C9IfY5"
      },
      "execution_count": null,
      "outputs": []
    },
    {
      "cell_type": "code",
      "source": [
        "import numpy as np\n",
        "import matplotlib.pyplot as plt\n",
        "from sklearn.linear_model import LogisticRegression\n",
        "\n",
        "# Sample data: [age, cholesterol]\n",
        "X = np.array([\n",
        "    [45, 210],\n",
        "    [50, 230],\n",
        "    [39, 180],\n",
        "    [60, 250],\n",
        "    [48, 220],\n",
        "    [55, 240]\n",
        "])\n",
        "\n",
        "# Labels: 0 = no heart disease, 1 = heart disease\n",
        "y = np.array([0, 1, 0, 1, 0, 1])\n",
        "\n",
        "# Training model\n",
        "model = LogisticRegression()\n",
        "model.fit(X, y)\n",
        "\n",
        "# Patient data for test scenario\n",
        "new_patient = np.array([[52, 225]])\n",
        "prediction = model.predict(new_patient)[0]\n",
        "probability = model.predict_proba(new_patient)[0][1]\n",
        "\n",
        "# Graph\n",
        "plt.figure(figsize=(8,6))\n",
        "\n",
        "# Age to Cholestrol correlation marking\n",
        "plt.scatter(X[y==0][:,0], X[y==0][:,1], color='green', label='No  Disease')\n",
        "plt.scatter(X[y==1][:,0], X[y==1][:,1], color='red', label='Heart Disease')\n",
        "\n",
        "# New patient test scenario\n",
        "plt.scatter(new_patient[:,0], new_patient[:,1],\n",
        "            color='blue', s=150, label=f'New Patient\\nPrediction: {prediction}\\nProb: {probability:.2f}')\n",
        "\n",
        "plt.xlabel('Age')\n",
        "plt.ylabel('Cholesterol')\n",
        "plt.title('Heart Disease Prediction Visualization')\n",
        "plt.legend()\n",
        "plt.grid(True)\n",
        "plt.show()\n",
        "\n",
        "\n",
        "#Logistic Regression Model\n",
        "\n",
        "from sklearn.model_selection import train_test_split\n",
        "from sklearn.linear_model import LogisticRegression\n",
        "from sklearn.metrics import accuracy_score\n",
        "\n",
        "\n",
        "X = df[['Age', 'MaxHR', 'Cholesterol']]\n",
        "y = df['HeartDisease']  # Target variable\n",
        "\n",
        "\n",
        "Xtrain, Xtest, ytrain, ytest = train_test_split(X, y, test_size=0.2, random_state=42)\n",
        "\n",
        "# Train logistic regression\n",
        "model = LogisticRegression()\n",
        "model.fit(Xtrain, ytrain)\n",
        "\n",
        "# Evaluate\n",
        "ypredict = model.predict(Xtest)\n",
        "accuracy = accuracy_score(ytest, ypredict)\n",
        "print(f\"Test Accuracy: {accuracy:.2f}\")\n",
        "\n",
        "# Graph for Predicted vs Actual Max Heart Rate stats\n",
        "import matplotlib.pyplot as plt\n",
        "\n",
        "plt.scatter(X_test['Age'], X_test['MaxHR'], c=y_pred, cmap='bwr', alpha=0.6, label='Predicted')\n",
        "plt.scatter(Xtest['Age'], Xtest['MaxHR'], c=ytest, cmap='coolwarm', alpha=0.2, label='Actual')\n",
        "plt.xlabel('Age')\n",
        "plt.ylabel('Max Heart Rate')\n",
        "plt.title('Heart Disease Prediction (Logistic Regression)')\n",
        "plt.legend()\n",
        "plt.grid(True)\n",
        "plt.show()\n"
      ],
      "metadata": {
        "id": "eXIf-0DCLy0S"
      },
      "execution_count": null,
      "outputs": []
    }
  ]
}